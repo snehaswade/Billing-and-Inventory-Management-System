{
 "cells": [
  {
   "cell_type": "code",
   "execution_count": 5,
   "id": "6e91d57a-3051-456c-87d4-5920886ad027",
   "metadata": {},
   "outputs": [],
   "source": [
    "record = {1001 : {'Name' : \"Lipstick\", 'Price' : 100, 'Quantity' : 10},\n",
    "          1002 : {'Name' : \"Mascara\", 'Price' : 300, 'Quantity' : 20},\n",
    "          1003 : {'Name' : \"Eyeliner\", 'Price' : 200, 'Quantity' : 30},\n",
    "          1004 : {'Name' : \"Blush\", 'Price' : 400, 'Quantity' : 40},\n",
    "          1005 : {'Name' : \"Concealer\", 'Price' : 450, 'Quantity' : 50},\n",
    "          1006 : {'Name' : \"Foundation\", 'Price' : 500, 'Quantity' : 601}\n",
    "         }"
   ]
  },
  {
   "cell_type": "code",
   "execution_count": 6,
   "id": "98e780e2-c63e-46c6-8f3e-bc26fe32eb56",
   "metadata": {},
   "outputs": [
    {
     "data": {
      "text/plain": [
       "'Mascara'"
      ]
     },
     "execution_count": 6,
     "metadata": {},
     "output_type": "execute_result"
    }
   ],
   "source": [
    "record[1002]['Name']"
   ]
  },
  {
   "cell_type": "code",
   "execution_count": 7,
   "id": "8939608b-654b-48ba-8772-a78c2e92153e",
   "metadata": {},
   "outputs": [
    {
     "name": "stdout",
     "output_type": "stream",
     "text": [
      "-------------------- MENU --------------------\n",
      "1001 : Lipstick   |   100   |   10\n",
      "1002 : Mascara   |   300   |   20\n",
      "1003 : Eyeliner   |   200   |   30\n",
      "1004 : Blush   |   400   |   40\n",
      "1005 : Concealer   |   450   |   50\n",
      "1006 : Foundation   |   500   |   601\n",
      "------------------------------------------------\n"
     ]
    }
   ],
   "source": [
    "print(\"-\"*20,\"MENU\",\"-\"*20)\n",
    "for keys in record.keys():\n",
    "    print(keys,\":\",record[keys]['Name'],\"  |  \",record[keys]['Price'],\"  |  \",record[keys]['Quantity'])\n",
    "print(\"-\"*48)"
   ]
  },
  {
   "cell_type": "code",
   "execution_count": null,
   "id": "d23a6776-c4f1-4a3b-ac41-190795cb4562",
   "metadata": {},
   "outputs": [
    {
     "name": "stdout",
     "output_type": "stream",
     "text": [
      "-------------------- MENU --------------------\n",
      "1001 : Lipstick   |   100   |   2\n",
      "1002 : Mascara   |   300   |   5\n",
      "1003 : Eyeliner   |   200   |   2\n",
      "1004 : Blush   |   400   |   0\n",
      "1005 : Concealer   |   450   |   20\n",
      "1006 : Foundation   |   500   |   0\n",
      "------------------------------------------------\n"
     ]
    }
   ],
   "source": [
    "import json\n",
    "import time\n",
    "\n",
    "fd = open(\"Records.json\",'r')\n",
    "js = fd.read()\n",
    "fd.close()\n",
    "\n",
    "record = json.loads(js)\n",
    "\n",
    "print(\"-\"*20,\"MENU\",\"-\"*20)\n",
    "for keys in record.keys():\n",
    "    print(keys,\":\",record[keys]['Name'],\"  |  \",record[keys]['Price'],\"  |  \",record[keys]['Quantity'])\n",
    "print(\"-\"*48)\n",
    "\n",
    "user_name = str(input(\"Enter your name: \"))\n",
    "user_phone = str(input(\"Enter your mobile number: \"))\n",
    "user_mail = str(input(\"Enter your mail Id: \"))\n",
    "user_prodId = str(input(\"Enter product whichever you want to purchase: \"))\n",
    "user_quantity = int(input(\"Enter the amount you would like to purchase: \"))\n",
    "\n",
    "print(\"-\"*20 , \"BILLING DETAILS\" , \"-\"*20)\n",
    "\n",
    "if (record[user_prodId]['Quantity'] >= user_quantity):\n",
    "    record[user_prodId]['Quantity'] = record[user_prodId]['Quantity'] - user_quantity \n",
    "    print(\"PRODUCT NAME                 :\", record[user_prodId]['Name'])\n",
    "    print(\"PRODUCT QUANTITY             :\", user_quantity)\n",
    "    print(\"PRICE(/PIECE)(In Rs.)        :\", record[user_prodId]['Price'])\n",
    "    print(\"-\"*20 , \"BILLING AMOUNT\" , \"-\"*20)\n",
    "    print(\"BILLING AMOUNT               :\" , user_quantity * record[user_prodId]['Price'] , \"Rs.\")\n",
    "    print(\"INCLUDING GST(+18%)         :\" ,(user_quantity * record[user_prodId]['Price'])+((user_quantity * record[user_prodId]['Price'])*18/100))\n",
    "    print(\"-\"*20 , \"BILLING AMOUNT\" , \"-\"*20)\n",
    "    \n",
    "    sale = user_name + \",\" + user_phone + \",\" + user_mail + \",\" + user_prodId + \",\" + record[user_prodId]['Name'] + \",\" + str(user_quantity) + \",\" + str(record[user_prodId]['Price']) + \",\" + str(user_quantity * record[user_prodId]['Price']) + \",\" + time.ctime() + \"\\n\"\n",
    "\n",
    "else:\n",
    "    print(\"SORRY! WE ARE NOT HAVING THIS MUCH QUANTITY.\")\n",
    "    print(\"WOULD YOU LIKE TO BUY\",record[user_prodId]['Quantity'],\"QUANTITY\")\n",
    "    print(\"-\"*40)\n",
    "\n",
    "    ch = str(input(\"PRESS Y/N\"))\n",
    "    if (ch == 'y' or ch == 'Y'):\n",
    "        print(\"PRODUCT NAME                 :\", record[user_prodId]['Name'])\n",
    "        print(\"PRODUCT QUANTITY             :\", record[user_prodId]['Quantity'])\n",
    "        print(\"PRICE(/PIECE)(In Rs.)        :\", record[user_prodId]['Price'])\n",
    "        print(\"-\"*20 , \"BILLING AMOUNT\" , \"-\"*20)\n",
    "        print(\"BILLING AMOUNT               :\" , record[user_prodId]['Quantity'] * record[user_prodId]['Price'] , \"Rs.\")\n",
    "        print(\"INCLUDING GST(+18%)         :\" , (record[user_prodId]['Quantity'] * record[user_prodId]['Price'])+((record[user_prodId]['Quantity'] * record[user_prodId]['Price'])*18/100))\n",
    "        print(\"-\"*20 , \"BILLING AMOUNT\" , \"-\"*20)\n",
    "        sale = user_name + \",\" + user_phone + \",\" + user_mail + \",\" + user_prodId + \",\" + record[user_prodId]['Name'] + \",\" + str(record[user_prodId]['Quantity']) + \",\" + str(record[user_prodId]['Price']) + \",\" + str(record[user_prodId]['Quantity'] * record[user_prodId]['Price']) + \",\" + time.ctime() + \"\\n\"\n",
    "        record[user_prodId]['Quantity'] = '0' \n",
    "\n",
    "    else:\n",
    "        print(\"THANKS\")\n",
    "\n",
    "\n",
    "js = json.dumps(record)\n",
    "\n",
    "fd = open(\"Records.json\",'w')\n",
    "fd.write(js)\n",
    "\n",
    "fd = open(\"sales.txt\",'a')\n",
    "fd.write(sale)\n",
    "\n",
    "fd.close()"
   ]
  },
  {
   "cell_type": "code",
   "execution_count": null,
   "id": "9818c353-1d43-4372-8797-94b2b57e368e",
   "metadata": {},
   "outputs": [],
   "source": []
  }
 ],
 "metadata": {
  "kernelspec": {
   "display_name": "Python 3 (ipykernel)",
   "language": "python",
   "name": "python3"
  },
  "language_info": {
   "codemirror_mode": {
    "name": "ipython",
    "version": 3
   },
   "file_extension": ".py",
   "mimetype": "text/x-python",
   "name": "python",
   "nbconvert_exporter": "python",
   "pygments_lexer": "ipython3",
   "version": "3.12.7"
  }
 },
 "nbformat": 4,
 "nbformat_minor": 5
}
