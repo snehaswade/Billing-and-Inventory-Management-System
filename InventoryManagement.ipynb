{
 "cells": [
  {
   "cell_type": "code",
   "execution_count": 29,
   "id": "e752e528-4089-466c-b230-53b2b1469201",
   "metadata": {},
   "outputs": [],
   "source": [
    "fd = open(\"Inventory.txt\",\"w\")\n",
    "fd.close()"
   ]
  },
  {
   "cell_type": "code",
   "execution_count": null,
   "id": "448a5cd8-6827-4a95-97a5-a89bfc5defc3",
   "metadata": {},
   "outputs": [],
   "source": [
    "# Details of the Product\n",
    "# 1. ProductId\n",
    "# 2. Product Name\n",
    "# 3. Prodct Quantity\n",
    "# 4. Product Price"
   ]
  },
  {
   "cell_type": "code",
   "execution_count": 12,
   "id": "10cb9f80-a737-4885-967b-0da0d957a215",
   "metadata": {},
   "outputs": [],
   "source": [
    "fd = open('Inventory.txt','r')\n",
    "data = fd.read().split('\\n')\n",
    "fd.close()"
   ]
  },
  {
   "cell_type": "code",
   "execution_count": 13,
   "id": "49957f24-9819-4739-96fa-404dabfe473b",
   "metadata": {},
   "outputs": [
    {
     "data": {
      "text/plain": [
       "['1, Chocolate, 5, 100',\n",
       " '2, Milky Bar, 10, 50',\n",
       " '3, Cake, 300, 5',\n",
       " '4, Candy, 1, 200',\n",
       " '5,Macron,15,100']"
      ]
     },
     "execution_count": 13,
     "metadata": {},
     "output_type": "execute_result"
    }
   ],
   "source": [
    "data"
   ]
  },
  {
   "cell_type": "code",
   "execution_count": 14,
   "id": "7b90b2ad-c909-47ff-a991-9fdbdf9c46fe",
   "metadata": {},
   "outputs": [
    {
     "name": "stdout",
     "output_type": "stream",
     "text": [
      "1, Chocolate, 5, 100\n",
      "2, Milky Bar, 10, 50\n",
      "3, Cake, 300, 5\n",
      "4, Candy, 1, 200\n",
      "5,Macron,15,100\n"
     ]
    }
   ],
   "source": [
    "for i in data:\n",
    "    print(i)"
   ]
  },
  {
   "cell_type": "code",
   "execution_count": 18,
   "id": "d30f9143-57e5-4637-bd4c-5e592aa129e9",
   "metadata": {},
   "outputs": [
    {
     "name": "stdin",
     "output_type": "stream",
     "text": [
      "Enter your full name hdydndnd\n",
      "Enter your phone number xxnxhdn\n",
      "Enter your mailId nchdndm\n",
      "Enter the product ID :  2\n",
      "Enter how much you want?  3\n"
     ]
    },
    {
     "name": "stdout",
     "output_type": "stream",
     "text": [
      "--------------------\n",
      "Product Name: Milky Bar\n",
      "Product Price(/piece): 10\n",
      "Quantity: 3\n",
      "--------------------\n",
      "Billing Amount:  30\n",
      "--------------------\n",
      "Inventory Updated\n"
     ]
    }
   ],
   "source": [
    "import time\n",
    "fd = open(\"Inventory.txt\",\"r\")\n",
    "data= fd.read().split('\\n')\n",
    "fd.close()\n",
    "\n",
    "user_name = input(\"Enter your full name\")\n",
    "user_phone = input(\"Enter your phone number\")\n",
    "user_mailId = input(\"Enter your mailId\")\n",
    "user_prodId_ip = input(\"Enter the product ID : \")\n",
    "user_prodQuant_ip = input(\"Enter how much you want? \")\n",
    "\n",
    "updated_list = []\n",
    "\n",
    "for product in data:\n",
    "    product_details = product.split(',')\n",
    "    \n",
    "    if(product_details[0] == user_prodId_ip):\n",
    "        if (int(user_prodQuant_ip) <= int(product_details[3])):\n",
    "            print('-'*20)\n",
    "            print(\"Product Name:\", product_details[1])\n",
    "            print(\"Product Price(/piece):\", product_details[2])\n",
    "            print(\"Quantity:\", user_prodQuant_ip)\n",
    "            print('-'*20)\n",
    "            print(\"Billing Amount: \", int(user_prodQuant_ip)*int(product_details[2]))\n",
    "            print('-'*20)\n",
    "            \n",
    "            product_details[3] = str(int(product_details[3]) -int(user_prodQuant_ip))\n",
    "\n",
    "            fd = open(\"sales.txt\",'a')\n",
    "            sales = user_name + \",\" + user_phone + \",\" + user_mailId + \",\" + user_prodId_ip + \",\" + user_prodQuant_ip + \",\" + str(int(product_details[2]) * int(user_prodQuant_ip) + time.ctime + '\\n')\n",
    "            fd.write(sales)\n",
    "            fd.close()\n",
    "            \n",
    "        else:\n",
    "            print(\"We are not having enough quantity right now.\")\n",
    "            print(\"We are having only\",product_details[3],'Available now')\n",
    "            print(\"Would you like to purchase?\")\n",
    "            \n",
    "            ask_cust = input(\"Press Y/N\")\n",
    "        \n",
    "            if (ask_cust == 'Y' or ask_cust == 'y'):\n",
    "                print('-'*20)\n",
    "                print(\"Product Name:\", product_details[1])\n",
    "                print(\"Product Price(/piece):\", product_details[2])\n",
    "                print(\"Quantity:\", user_prodQuant_ip)\n",
    "                print('-'*20)\n",
    "                print(\"Billing Amount: \", int(user_prodQuant_ip)*int(product_details[2]))\n",
    "                print('-'*20)\n",
    "                \n",
    "                product_details[3] = '0'\n",
    "            else:\n",
    "                print(\"Thanks\")\n",
    "            \n",
    "    updated_list.append(product_details)\n",
    "lst = []\n",
    "\n",
    "for i in updated_list:\n",
    "    prod = i[0] + \",\" + i[1] + \",\" + i[2] + \",\" + i[3]\n",
    "    lst.append(prod)\n",
    "\n",
    "lst[-1] = lst[-1][:-1]\n",
    "\n",
    "fd = open(\"Inventory.txt\",\"w\")\n",
    "for i in lst:\n",
    "    fd.write(i)\n",
    "    \n",
    "fd.close()\n",
    "print(\"Inventory Updated\")"
   ]
  },
  {
   "cell_type": "code",
   "execution_count": 38,
   "id": "3e4a47f1-387c-4746-85df-c48b35983fa3",
   "metadata": {},
   "outputs": [
    {
     "name": "stdout",
     "output_type": "stream",
     "text": [
      "[1, 4, 9, 16, 25]\n"
     ]
    }
   ],
   "source": []
  },
  {
   "cell_type": "code",
   "execution_count": null,
   "id": "ebd4b344-3da9-4144-95f3-c28339b77563",
   "metadata": {},
   "outputs": [],
   "source": []
  }
 ],
 "metadata": {
  "kernelspec": {
   "display_name": "Python 3 (ipykernel)",
   "language": "python",
   "name": "python3"
  },
  "language_info": {
   "codemirror_mode": {
    "name": "ipython",
    "version": 3
   },
   "file_extension": ".py",
   "mimetype": "text/x-python",
   "name": "python",
   "nbconvert_exporter": "python",
   "pygments_lexer": "ipython3",
   "version": "3.12.7"
  }
 },
 "nbformat": 4,
 "nbformat_minor": 5
}
